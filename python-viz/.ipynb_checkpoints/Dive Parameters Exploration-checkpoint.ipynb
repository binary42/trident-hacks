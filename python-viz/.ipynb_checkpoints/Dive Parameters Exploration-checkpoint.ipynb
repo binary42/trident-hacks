{
 "cells": [
  {
   "cell_type": "code",
   "execution_count": 1,
   "metadata": {},
   "outputs": [],
   "source": [
    "import matplotlib as mpl\n",
    "import matplotlib.pyplot as plt\n",
    "import json\n"
   ]
  },
  {
   "cell_type": "code",
   "execution_count": 2,
   "metadata": {},
   "outputs": [
    {
     "data": {
      "text/plain": [
       "'2.0.9'"
      ]
     },
     "execution_count": 2,
     "metadata": {},
     "output_type": "execute_result"
    }
   ],
   "source": [
    "json.__version__"
   ]
  },
  {
   "cell_type": "code",
   "execution_count": 3,
   "metadata": {},
   "outputs": [
    {
     "data": {
      "text/plain": [
       "'2.2.2'"
      ]
     },
     "execution_count": 3,
     "metadata": {},
     "output_type": "execute_result"
    }
   ],
   "source": [
    "mpl.__version__"
   ]
  },
  {
   "cell_type": "code",
   "execution_count": 4,
   "metadata": {},
   "outputs": [],
   "source": [
    "filepath = \"../samples/Trident-Jul-18-185925.json\""
   ]
  },
  {
   "cell_type": "code",
   "execution_count": 5,
   "metadata": {
    "scrolled": false
   },
   "outputs": [],
   "source": [
    "with open(filepath) as json_file:\n",
    "    text = json_file.read()\n",
    "    json_data = json.loads(text)"
   ]
  },
  {
   "cell_type": "code",
   "execution_count": 7,
   "metadata": {},
   "outputs": [
    {
     "name": "stdout",
     "output_type": "stream",
     "text": [
      "<class 'list'>\n",
      "<class 'str'>\n"
     ]
    }
   ],
   "source": [
    "print(type(json_data))\n",
    "print(type(text))"
   ]
  },
  {
   "cell_type": "code",
   "execution_count": 8,
   "metadata": {},
   "outputs": [
    {
     "name": "stdout",
     "output_type": "stream",
     "text": [
      "{'topic': 'FlightVideoScreenshotMessage', '_id': '0000000000000000000:FlightVideoScreenshotMessage', 'tx_ts': None, 'mtype': 'class com.openrov.orovclient.events.messages.FlightVideoScreenshotMessage', 'rx_ts': {'nanosec': 962000000, 'sec': 1531965565}, 'data': {'byteLength': 14820, 'filename': '3020918a-2105-4de9-a57a-f899942d59cb.1.jpeg', 'sequenceID': 1}}\n"
     ]
    }
   ],
   "source": [
    "print(json_data[0])"
   ]
  },
  {
   "cell_type": "code",
   "execution_count": 9,
   "metadata": {},
   "outputs": [
    {
     "name": "stdout",
     "output_type": "stream",
     "text": [
      "{'topic': 'pressure.fluid_pressure_', '_id': '0000000000000000001:pressure.fluid_pressure_', 'tx_ts': None, 'mtype': 'fluid_pressure_', 'rx_ts': {'nanosec': 122000000, 'sec': 1531965566}, 'data': '1023.2000122070313'}\n"
     ]
    }
   ],
   "source": [
    "print(json_data[1])"
   ]
  },
  {
   "cell_type": "code",
   "execution_count": 10,
   "metadata": {},
   "outputs": [
    {
     "name": "stdout",
     "output_type": "stream",
     "text": [
      "pressure.header_.frame_id_\n"
     ]
    }
   ],
   "source": [
    "print(json_data[2]['topic'])"
   ]
  },
  {
   "cell_type": "code",
   "execution_count": 11,
   "metadata": {},
   "outputs": [
    {
     "name": "stdout",
     "output_type": "stream",
     "text": [
      "{'topic': 'FlightVideoScreenshotMessage', '_id': '0000000000000000000:FlightVideoScreenshotMessage', 'tx_ts': None, 'mtype': 'class com.openrov.orovclient.events.messages.FlightVideoScreenshotMessage', 'rx_ts': {'nanosec': 962000000, 'sec': 1531965565}, 'data': {'byteLength': 14820, 'filename': '3020918a-2105-4de9-a57a-f899942d59cb.1.jpeg', 'sequenceID': 1}}\n",
      "{'topic': 'pressure.fluid_pressure_', '_id': '0000000000000000001:pressure.fluid_pressure_', 'tx_ts': None, 'mtype': 'fluid_pressure_', 'rx_ts': {'nanosec': 122000000, 'sec': 1531965566}, 'data': '1023.2000122070313'}\n",
      "{'topic': 'pressure.header_.frame_id_', '_id': '0000000000000000002:pressure.header_.frame_id_', 'tx_ts': None, 'mtype': 'frame_id_', 'rx_ts': {'nanosec': 123000000, 'sec': 1531965566}, 'data': ''}\n"
     ]
    }
   ],
   "source": [
    "for message in json_data[0:3]:\n",
    "    print(message)"
   ]
  },
  {
   "cell_type": "code",
   "execution_count": 12,
   "metadata": {},
   "outputs": [
    {
     "name": "stdout",
     "output_type": "stream",
     "text": [
      "{'byteLength': 14820, 'filename': '3020918a-2105-4de9-a57a-f899942d59cb.1.jpeg', 'sequenceID': 1}\n",
      "1023.2000122070313\n",
      "\n"
     ]
    }
   ],
   "source": [
    "for message in json_data[0:3]:\n",
    "    print(message['data'])"
   ]
  },
  {
   "cell_type": "code",
   "execution_count": 13,
   "metadata": {},
   "outputs": [
    {
     "name": "stdout",
     "output_type": "stream",
     "text": [
      "FlightVideoScreenshotMessage\n",
      "pressure.fluid_pressure_\n",
      "pressure.header_.frame_id_\n",
      "pressure.header_.stamp_.nanosec_\n",
      "pressure.header_.stamp_.sec_\n",
      "pressure.variance_\n",
      "depth\n",
      "temp.water.id\n",
      "temp.water.temperature.header_.frame_id_\n",
      "temp.water.temperature.header_.stamp_.nanosec_\n",
      "temp.water.temperature.header_.stamp_.sec_\n",
      "temp.water.temperature.temperature_\n",
      "temp.water.temperature.variance_\n",
      "FlightCameraH264Message\n",
      "FlightCameraH264Message\n",
      "FlightCameraH264Message\n",
      "FlightCameraH264Message\n",
      "FlightCameraH264Message\n",
      "FlightCameraH264Message\n",
      "internal_pressure.fluid_pressure_\n",
      "internal_pressure.header_.frame_id_\n",
      "internal_pressure.header_.stamp_.nanosec_\n",
      "internal_pressure.header_.stamp_.sec_\n",
      "internal_pressure.variance_\n",
      "temp.internal.id\n",
      "temp.internal.temperature.header_.frame_id_\n",
      "temp.internal.temperature.header_.stamp_.nanosec_\n",
      "temp.internal.temperature.header_.stamp_.sec_\n",
      "temp.internal.temperature.temperature_\n",
      "temp.internal.temperature.variance_\n"
     ]
    }
   ],
   "source": [
    "for message in json_data[0:30]:\n",
    "    print(message['topic'])"
   ]
  },
  {
   "cell_type": "code",
   "execution_count": null,
   "metadata": {},
   "outputs": [],
   "source": []
  }
 ],
 "metadata": {
  "kernelspec": {
   "display_name": "Python 3",
   "language": "python",
   "name": "python3"
  },
  "language_info": {
   "codemirror_mode": {
    "name": "ipython",
    "version": 3
   },
   "file_extension": ".py",
   "mimetype": "text/x-python",
   "name": "python",
   "nbconvert_exporter": "python",
   "pygments_lexer": "ipython3",
   "version": "3.6.5"
  }
 },
 "nbformat": 4,
 "nbformat_minor": 2
}
