{
 "cells": [
  {
   "cell_type": "code",
   "execution_count": 1,
   "metadata": {},
   "outputs": [],
   "source": [
    "import json\n",
    "import datetime\n",
    "import time"
   ]
  },
  {
   "cell_type": "code",
   "execution_count": 2,
   "metadata": {},
   "outputs": [],
   "source": [
    "json.__version__"
   ]
  },
  {
   "cell_type": "code",
   "execution_count": 3,
   "metadata": {},
   "outputs": [],
   "source": [
    "# Set the relative path from this Notebook to the JSON file we'd like to play with\n",
    "\n",
    "filepath = \"../samples/Trident-Jul-18-185925.json\""
   ]
  },
  {
   "cell_type": "code",
   "execution_count": 4,
   "metadata": {
    "scrolled": false
   },
   "outputs": [],
   "source": [
    "with open(filepath) as json_file:\n",
    "    text = json_file.read()\n",
    "    json_data = json.loads(text)"
   ]
  },
  {
   "cell_type": "code",
   "execution_count": 5,
   "metadata": {},
   "outputs": [
    {
     "name": "stdout",
     "output_type": "stream",
     "text": [
      "<class 'list'>\n",
      "<class 'str'>\n"
     ]
    }
   ],
   "source": [
    "print(type(json_data))\n",
    "print(type(text))"
   ]
  },
  {
   "cell_type": "code",
   "execution_count": 6,
   "metadata": {},
   "outputs": [
    {
     "name": "stdout",
     "output_type": "stream",
     "text": [
      "{'topic': 'FlightCameraH264Message', '_id': '0000000000000000034:FlightCameraH264Message', 'tx_ts': None, 'mtype': 'class com.openrov.orovclient.events.messages.FlightCameraH264Message', 'rx_ts': {'nanosec': 441000000, 'sec': 1531965566}, 'data': {'byteLength': 1012, 'fileIndex': 60284, 'frameType': '?'}}\n",
      "{'topic': 'imuCallibration.gyro', '_id': '0000000000000000123:imuCallibration.gyro', 'tx_ts': None, 'mtype': 'gyro', 'rx_ts': {'nanosec': 542000000, 'sec': 1531965567}, 'data': '3'}\n"
     ]
    }
   ],
   "source": [
    "# two tuples' dictionaries\n",
    "\n",
    "print(json_data[34])\n",
    "print(json_data[123])"
   ]
  },
  {
   "cell_type": "code",
   "execution_count": 7,
   "metadata": {},
   "outputs": [
    {
     "name": "stdout",
     "output_type": "stream",
     "text": [
      "pressure.header_.frame_id_\n"
     ]
    }
   ],
   "source": [
    "# one tuple's topic\n",
    "print(json_data[2]['topic'])"
   ]
  },
  {
   "cell_type": "code",
   "execution_count": 8,
   "metadata": {},
   "outputs": [
    {
     "name": "stdout",
     "output_type": "stream",
     "text": [
      "FlightVideoScreenshotMessage {'byteLength': 14820, 'filename': '3020918a-2105-4de9-a57a-f899942d59cb.1.jpeg', 'sequenceID': 1}\n",
      "pressure.fluid_pressure_ 1023.2000122070313\n",
      "pressure.header_.frame_id_ \n",
      "pressure.header_.stamp_.nanosec_ 0\n",
      "pressure.header_.stamp_.sec_ 0\n",
      "pressure.variance_ 0.0\n",
      "depth -0.030978851\n",
      "temp.water.id ms5837\n",
      "temp.water.temperature.header_.frame_id_ \n",
      "temp.water.temperature.header_.stamp_.nanosec_ 0\n"
     ]
    }
   ],
   "source": [
    "# take a look at a few JSON tuples, just the topic and the data value\n",
    "for message in json_data[0:10]:\n",
    "    print(message['topic'],message['data'])"
   ]
  },
  {
   "cell_type": "code",
   "execution_count": 9,
   "metadata": {},
   "outputs": [],
   "source": [
    "all_topics = set(map(lambda x: x['topic'], json_data))"
   ]
  },
  {
   "cell_type": "code",
   "execution_count": 10,
   "metadata": {},
   "outputs": [
    {
     "name": "stdout",
     "output_type": "stream",
     "text": [
      "{'temp.internal.temperature.temperature_', 'temp.water.temperature.header_.stamp_.nanosec_', 'fuelgauge.status.battery_state.cell_voltage_', 'fuelgauge.health.battery_state.header_.stamp_.nanosec_', 'internal_pressure.header_.stamp_.sec_', 'fuelgauge.health.battery_state.header_.stamp_.sec_', 'fuelgauge.health.battery_state.voltage_', 'fuelgauge.status.battery_state.power_supply_status_', 'fuelgauge.status.battery_temperature', 'i2cstats.bus_failure_count', 'pressure.header_.frame_id_', 'imuCallibration.gyro', 'fuelgauge.health.battery_state.design_capacity_', 'imuCallibration.accel', 'fuelgauge.status.battery_state.design_capacity_', 'fuelgauge.status.battery_state.voltage_', 'fuelgauge.health.average_time_to_empty_mins', 'fuelgauge.status.battery_state.percentage_', 'attitude.calc.pitch', 'fuelgauge.health.cycle_count', 'fuelgauge.health.battery_state.location_', 'fuelgauge.status.battery_state.header_.frame_id_', 'attitude.calc.roll', 'i2cstats.hard_reset_count', 'fuelgauge.status.average_current', 'fuelgauge.health.battery_state.capacity_', 'temp.water.temperature.variance_', 'temp.internal.temperature.variance_', 'fuelgauge.status.battery_state.power_supply_technology_', 'fuelgauge.health.full_charge_capacity', 'internal_pressure.variance_', 'fuelgauge.health.battery_state.cell_voltage_', 'fuelgauge.status.battery_state.header_.stamp_.sec_', 'i2cstats.soft_reset_count', 'internal_pressure.header_.stamp_.nanosec_', 'imuCallibration.system', 'i2cstats.recovery_count', 'fuelgauge.health.battery_state.present_', 'fuelgauge.health.battery_state.charge_', 'attitude.orientation.y', 'temp.water.temperature.header_.stamp_.sec_', 'fuelgauge.health.battery_state.power_supply_status_', 'temp.water.temperature.temperature_', 'pressure.header_.stamp_.sec_', 'fuelgauge.status.battery_state.location_', 'pressure.fluid_pressure_', 'depth', 'FlightCameraH264Message', 'temp.internal.temperature.header_.frame_id_', 'temp.internal.temperature.header_.stamp_.nanosec_', 'fuelgauge.status.battery_state.power_supply_health_', 'imuCallibration.mag', 'attitude.orientation.z', 'pressure.header_.stamp_.nanosec_', 'imuCallibration.id', 'fuelgauge.health.battery_state.percentage_', 'temp.water.id', 'fuelgauge.health.battery_state.power_supply_technology_', 'fuelgauge.health.battery_state.header_.frame_id_', 'fuelgauge.status.battery_state.capacity_', 'fuelgauge.status.battery_state.present_', 'attitude.calc.yaw', 'fuelgauge.status.battery_state.charge_', 'fuelgauge.health.battery_state.current_', 'fuelgauge.health.battery_state.serial_number_', 'i2cstats.latch_failure_count', 'i2cstats.limit_break_count', 'pressure.variance_', 'FlightVideoScreenshotMessage', 'fuelgauge.status.battery_state.current_', 'fuelgauge.status.average_power', 'temp.internal.temperature.header_.stamp_.sec_', 'internal_pressure.header_.frame_id_', 'attitude.orientation.x', 'attitude.orientation.w', 'temp.internal.id', 'fuelgauge.status.battery_state.header_.stamp_.nanosec_', 'i2cstats.id', 'fuelgauge.health.state_of_health_pct', 'temp.water.temperature.header_.frame_id_', 'internal_pressure.fluid_pressure_', 'fuelgauge.health.battery_state.power_supply_health_', 'fuelgauge.status.battery_state.serial_number_'}\n"
     ]
    }
   ],
   "source": [
    "print(all_topics)"
   ]
  },
  {
   "cell_type": "code",
   "execution_count": 11,
   "metadata": {},
   "outputs": [],
   "source": [
    "utopics = sorted(list(all_topics))"
   ]
  },
  {
   "cell_type": "code",
   "execution_count": 12,
   "metadata": {},
   "outputs": [
    {
     "name": "stdout",
     "output_type": "stream",
     "text": [
      "['FlightCameraH264Message', 'FlightVideoScreenshotMessage', 'attitude.calc.pitch', 'attitude.calc.roll', 'attitude.calc.yaw', 'attitude.orientation.w', 'attitude.orientation.x', 'attitude.orientation.y', 'attitude.orientation.z', 'depth', 'fuelgauge.health.average_time_to_empty_mins', 'fuelgauge.health.battery_state.capacity_', 'fuelgauge.health.battery_state.cell_voltage_', 'fuelgauge.health.battery_state.charge_', 'fuelgauge.health.battery_state.current_', 'fuelgauge.health.battery_state.design_capacity_', 'fuelgauge.health.battery_state.header_.frame_id_', 'fuelgauge.health.battery_state.header_.stamp_.nanosec_', 'fuelgauge.health.battery_state.header_.stamp_.sec_', 'fuelgauge.health.battery_state.location_', 'fuelgauge.health.battery_state.percentage_', 'fuelgauge.health.battery_state.power_supply_health_', 'fuelgauge.health.battery_state.power_supply_status_', 'fuelgauge.health.battery_state.power_supply_technology_', 'fuelgauge.health.battery_state.present_', 'fuelgauge.health.battery_state.serial_number_', 'fuelgauge.health.battery_state.voltage_', 'fuelgauge.health.cycle_count', 'fuelgauge.health.full_charge_capacity', 'fuelgauge.health.state_of_health_pct', 'fuelgauge.status.average_current', 'fuelgauge.status.average_power', 'fuelgauge.status.battery_state.capacity_', 'fuelgauge.status.battery_state.cell_voltage_', 'fuelgauge.status.battery_state.charge_', 'fuelgauge.status.battery_state.current_', 'fuelgauge.status.battery_state.design_capacity_', 'fuelgauge.status.battery_state.header_.frame_id_', 'fuelgauge.status.battery_state.header_.stamp_.nanosec_', 'fuelgauge.status.battery_state.header_.stamp_.sec_', 'fuelgauge.status.battery_state.location_', 'fuelgauge.status.battery_state.percentage_', 'fuelgauge.status.battery_state.power_supply_health_', 'fuelgauge.status.battery_state.power_supply_status_', 'fuelgauge.status.battery_state.power_supply_technology_', 'fuelgauge.status.battery_state.present_', 'fuelgauge.status.battery_state.serial_number_', 'fuelgauge.status.battery_state.voltage_', 'fuelgauge.status.battery_temperature', 'i2cstats.bus_failure_count', 'i2cstats.hard_reset_count', 'i2cstats.id', 'i2cstats.latch_failure_count', 'i2cstats.limit_break_count', 'i2cstats.recovery_count', 'i2cstats.soft_reset_count', 'imuCallibration.accel', 'imuCallibration.gyro', 'imuCallibration.id', 'imuCallibration.mag', 'imuCallibration.system', 'internal_pressure.fluid_pressure_', 'internal_pressure.header_.frame_id_', 'internal_pressure.header_.stamp_.nanosec_', 'internal_pressure.header_.stamp_.sec_', 'internal_pressure.variance_', 'pressure.fluid_pressure_', 'pressure.header_.frame_id_', 'pressure.header_.stamp_.nanosec_', 'pressure.header_.stamp_.sec_', 'pressure.variance_', 'temp.internal.id', 'temp.internal.temperature.header_.frame_id_', 'temp.internal.temperature.header_.stamp_.nanosec_', 'temp.internal.temperature.header_.stamp_.sec_', 'temp.internal.temperature.temperature_', 'temp.internal.temperature.variance_', 'temp.water.id', 'temp.water.temperature.header_.frame_id_', 'temp.water.temperature.header_.stamp_.nanosec_', 'temp.water.temperature.header_.stamp_.sec_', 'temp.water.temperature.temperature_', 'temp.water.temperature.variance_']\n"
     ]
    }
   ],
   "source": [
    "# Here are all of the \"topics\" (sentence types) present in this particular telemetry file\n",
    "print(utopics)"
   ]
  },
  {
   "cell_type": "code",
   "execution_count": 13,
   "metadata": {},
   "outputs": [
    {
     "name": "stdout",
     "output_type": "stream",
     "text": [
      "FlightCameraH264Message\n",
      "FlightVideoScreenshotMessage\n",
      "attitude.calc.pitch\n",
      "attitude.calc.roll\n",
      "attitude.calc.yaw\n",
      "attitude.orientation.w\n",
      "attitude.orientation.x\n",
      "attitude.orientation.y\n",
      "attitude.orientation.z\n",
      "depth\n",
      "fuelgauge.health.average_time_to_empty_mins\n",
      "fuelgauge.health.battery_state.capacity_\n",
      "fuelgauge.health.battery_state.cell_voltage_\n",
      "fuelgauge.health.battery_state.charge_\n",
      "fuelgauge.health.battery_state.current_\n",
      "fuelgauge.health.battery_state.design_capacity_\n",
      "fuelgauge.health.battery_state.header_.frame_id_\n",
      "fuelgauge.health.battery_state.header_.stamp_.nanosec_\n",
      "fuelgauge.health.battery_state.header_.stamp_.sec_\n",
      "fuelgauge.health.battery_state.location_\n",
      "fuelgauge.health.battery_state.percentage_\n",
      "fuelgauge.health.battery_state.power_supply_health_\n",
      "fuelgauge.health.battery_state.power_supply_status_\n",
      "fuelgauge.health.battery_state.power_supply_technology_\n",
      "fuelgauge.health.battery_state.present_\n",
      "fuelgauge.health.battery_state.serial_number_\n",
      "fuelgauge.health.battery_state.voltage_\n",
      "fuelgauge.health.cycle_count\n",
      "fuelgauge.health.full_charge_capacity\n",
      "fuelgauge.health.state_of_health_pct\n",
      "fuelgauge.status.average_current\n",
      "fuelgauge.status.average_power\n",
      "fuelgauge.status.battery_state.capacity_\n",
      "fuelgauge.status.battery_state.cell_voltage_\n",
      "fuelgauge.status.battery_state.charge_\n",
      "fuelgauge.status.battery_state.current_\n",
      "fuelgauge.status.battery_state.design_capacity_\n",
      "fuelgauge.status.battery_state.header_.frame_id_\n",
      "fuelgauge.status.battery_state.header_.stamp_.nanosec_\n",
      "fuelgauge.status.battery_state.header_.stamp_.sec_\n",
      "fuelgauge.status.battery_state.location_\n",
      "fuelgauge.status.battery_state.percentage_\n",
      "fuelgauge.status.battery_state.power_supply_health_\n",
      "fuelgauge.status.battery_state.power_supply_status_\n",
      "fuelgauge.status.battery_state.power_supply_technology_\n",
      "fuelgauge.status.battery_state.present_\n",
      "fuelgauge.status.battery_state.serial_number_\n",
      "fuelgauge.status.battery_state.voltage_\n",
      "fuelgauge.status.battery_temperature\n",
      "i2cstats.bus_failure_count\n",
      "i2cstats.hard_reset_count\n",
      "i2cstats.id\n",
      "i2cstats.latch_failure_count\n",
      "i2cstats.limit_break_count\n",
      "i2cstats.recovery_count\n",
      "i2cstats.soft_reset_count\n",
      "imuCallibration.accel\n",
      "imuCallibration.gyro\n",
      "imuCallibration.id\n",
      "imuCallibration.mag\n",
      "imuCallibration.system\n",
      "internal_pressure.fluid_pressure_\n",
      "internal_pressure.header_.frame_id_\n",
      "internal_pressure.header_.stamp_.nanosec_\n",
      "internal_pressure.header_.stamp_.sec_\n",
      "internal_pressure.variance_\n",
      "pressure.fluid_pressure_\n",
      "pressure.header_.frame_id_\n",
      "pressure.header_.stamp_.nanosec_\n",
      "pressure.header_.stamp_.sec_\n",
      "pressure.variance_\n",
      "temp.internal.id\n",
      "temp.internal.temperature.header_.frame_id_\n",
      "temp.internal.temperature.header_.stamp_.nanosec_\n",
      "temp.internal.temperature.header_.stamp_.sec_\n",
      "temp.internal.temperature.temperature_\n",
      "temp.internal.temperature.variance_\n",
      "temp.water.id\n",
      "temp.water.temperature.header_.frame_id_\n",
      "temp.water.temperature.header_.stamp_.nanosec_\n",
      "temp.water.temperature.header_.stamp_.sec_\n",
      "temp.water.temperature.temperature_\n",
      "temp.water.temperature.variance_\n"
     ]
    }
   ],
   "source": [
    "for x in utopics:\n",
    "    print(x)"
   ]
  },
  {
   "cell_type": "code",
   "execution_count": 14,
   "metadata": {},
   "outputs": [],
   "source": [
    "# timestamps look like {'nanosec': 542000000, 'sec': 1531965567}\n",
    "def epoch_seconds(rx_ts):\n",
    "    even_seconds = rx_ts['sec']\n",
    "    nanoseconds = rx_ts['nanosec']\n",
    "    # print(even_seconds, nanoseconds)\n",
    "    return even_seconds + nanoseconds/1000000000.0\n",
    "def rx_epoch_seconds(json_element):\n",
    "    rx_ts = json_element['rx_ts']\n",
    "    return epoch_seconds(rx_ts)\n",
    "def rx_timestamp(json_element):\n",
    "    return datetime.datetime.utcfromtimestamp(rx_epoch_seconds(json_element))\n"
   ]
  },
  {
   "cell_type": "code",
   "execution_count": 15,
   "metadata": {},
   "outputs": [
    {
     "data": {
      "text/plain": [
       "1531965566.441"
      ]
     },
     "execution_count": 15,
     "metadata": {},
     "output_type": "execute_result"
    }
   ],
   "source": [
    "epoch_seconds(json_data[34]['rx_ts'])"
   ]
  },
  {
   "cell_type": "code",
   "execution_count": 16,
   "metadata": {},
   "outputs": [
    {
     "data": {
      "text/plain": [
       "1531965566.441"
      ]
     },
     "execution_count": 16,
     "metadata": {},
     "output_type": "execute_result"
    }
   ],
   "source": [
    "rx_epoch_seconds(json_data[34])"
   ]
  },
  {
   "cell_type": "code",
   "execution_count": 17,
   "metadata": {},
   "outputs": [
    {
     "data": {
      "text/plain": [
       "datetime.datetime(2018, 7, 19, 1, 59, 26, 441000)"
      ]
     },
     "execution_count": 17,
     "metadata": {},
     "output_type": "execute_result"
    }
   ],
   "source": [
    "rx_timestamp(json_data[34])"
   ]
  },
  {
   "cell_type": "code",
   "execution_count": 18,
   "metadata": {},
   "outputs": [
    {
     "data": {
      "text/plain": [
       "datetime.datetime(2018, 7, 19, 1, 59, 26)"
      ]
     },
     "execution_count": 18,
     "metadata": {},
     "output_type": "execute_result"
    }
   ],
   "source": [
    "datetime.datetime(2018, 7, 19, 1, 59, 26)"
   ]
  }
 ],
 "metadata": {
  "kernelspec": {
   "display_name": "Python 3",
   "language": "python",
   "name": "python3"
  },
  "language_info": {
   "codemirror_mode": {
    "name": "ipython",
    "version": 3
   },
   "file_extension": ".py",
   "mimetype": "text/x-python",
   "name": "python",
   "nbconvert_exporter": "python",
   "pygments_lexer": "ipython3",
   "version": "3.6.5"
  }
 },
 "nbformat": 4,
 "nbformat_minor": 2
}
